{
 "cells": [
  {
   "cell_type": "code",
   "execution_count": 257,
   "metadata": {},
   "outputs": [],
   "source": [
    "import numpy as np\n",
    "import pandas as pd\n",
    "import matplotlib.pyplot as plt\n",
    "import scipy.stats as sps\n",
    "from statsmodels.distributions.empirical_distribution import ECDF\n",
    "\n",
    "import math\n",
    "\n",
    "from statsmodels.stats.descriptivestats import sign_test as sign_test\n",
    "\n",
    "import statsmodels.api as sm\n",
    "from statsmodels.regression.linear_model import OLS"
   ]
  },
  {
   "cell_type": "markdown",
   "metadata": {},
   "source": [
    "<h1>Часть 1</h1>"
   ]
  },
  {
   "cell_type": "code",
   "execution_count": 258,
   "metadata": {},
   "outputs": [
    {
     "data": {
      "text/html": [
       "<div>\n",
       "<style scoped>\n",
       "    .dataframe tbody tr th:only-of-type {\n",
       "        vertical-align: middle;\n",
       "    }\n",
       "\n",
       "    .dataframe tbody tr th {\n",
       "        vertical-align: top;\n",
       "    }\n",
       "\n",
       "    .dataframe thead th {\n",
       "        text-align: right;\n",
       "    }\n",
       "</style>\n",
       "<table border=\"1\" class=\"dataframe\">\n",
       "  <thead>\n",
       "    <tr style=\"text-align: right;\">\n",
       "      <th></th>\n",
       "      <th>D1</th>\n",
       "      <th>D2</th>\n",
       "      <th>D3</th>\n",
       "      <th>D4</th>\n",
       "      <th>D5</th>\n",
       "      <th>D6</th>\n",
       "      <th>D7</th>\n",
       "      <th>D8</th>\n",
       "      <th>D9</th>\n",
       "      <th>D10</th>\n",
       "      <th>D11</th>\n",
       "      <th>D12</th>\n",
       "      <th>D13</th>\n",
       "    </tr>\n",
       "  </thead>\n",
       "  <tbody>\n",
       "    <tr>\n",
       "      <th>0</th>\n",
       "      <td>2050</td>\n",
       "      <td>2243</td>\n",
       "      <td>2289</td>\n",
       "      <td>2650</td>\n",
       "      <td>13</td>\n",
       "      <td>7</td>\n",
       "      <td>north</td>\n",
       "      <td>Y</td>\n",
       "      <td>6.421</td>\n",
       "      <td>4.9671</td>\n",
       "      <td>2</td>\n",
       "      <td>Y</td>\n",
       "      <td>1639</td>\n",
       "    </tr>\n",
       "    <tr>\n",
       "      <th>1</th>\n",
       "      <td>2080</td>\n",
       "      <td>2255</td>\n",
       "      <td>2355</td>\n",
       "      <td>2600</td>\n",
       "      <td>8</td>\n",
       "      <td>4</td>\n",
       "      <td>north</td>\n",
       "      <td>Y</td>\n",
       "      <td>7.185</td>\n",
       "      <td>4.9671</td>\n",
       "      <td>2</td>\n",
       "      <td>Y</td>\n",
       "      <td>1088</td>\n",
       "    </tr>\n",
       "    <tr>\n",
       "      <th>2</th>\n",
       "      <td>2150</td>\n",
       "      <td>2307</td>\n",
       "      <td>2443</td>\n",
       "      <td>2664</td>\n",
       "      <td>6</td>\n",
       "      <td>5</td>\n",
       "      <td>north</td>\n",
       "      <td>Y</td>\n",
       "      <td>6.998</td>\n",
       "      <td>6.0622</td>\n",
       "      <td>3</td>\n",
       "      <td>Y</td>\n",
       "      <td>1193</td>\n",
       "    </tr>\n",
       "    <tr>\n",
       "      <th>3</th>\n",
       "      <td>2150</td>\n",
       "      <td>2232</td>\n",
       "      <td>2351</td>\n",
       "      <td>2921</td>\n",
       "      <td>3</td>\n",
       "      <td>6</td>\n",
       "      <td>north</td>\n",
       "      <td>Y</td>\n",
       "      <td>7.147</td>\n",
       "      <td>6.0622</td>\n",
       "      <td>3</td>\n",
       "      <td>Y</td>\n",
       "      <td>1635</td>\n",
       "    </tr>\n",
       "    <tr>\n",
       "      <th>4</th>\n",
       "      <td>1999</td>\n",
       "      <td>2054</td>\n",
       "      <td>2113</td>\n",
       "      <td>2580</td>\n",
       "      <td>4</td>\n",
       "      <td>4</td>\n",
       "      <td>north</td>\n",
       "      <td>Y</td>\n",
       "      <td>6.430</td>\n",
       "      <td>6.0622</td>\n",
       "      <td>3</td>\n",
       "      <td>Y</td>\n",
       "      <td>1732</td>\n",
       "    </tr>\n",
       "  </tbody>\n",
       "</table>\n",
       "</div>"
      ],
      "text/plain": [
       "     D1    D2    D3    D4  D5  D6     D7 D8     D9     D10  D11 D12   D13\n",
       "0  2050  2243  2289  2650  13   7  north  Y  6.421  4.9671    2   Y  1639\n",
       "1  2080  2255  2355  2600   8   4  north  Y  7.185  4.9671    2   Y  1088\n",
       "2  2150  2307  2443  2664   6   5  north  Y  6.998  6.0622    3   Y  1193\n",
       "3  2150  2232  2351  2921   3   6  north  Y  7.147  6.0622    3   Y  1635\n",
       "4  1999  2054  2113  2580   4   4  north  Y  6.430  6.0622    3   Y  1732"
      ]
     },
     "execution_count": 258,
     "metadata": {},
     "output_type": "execute_result"
    }
   ],
   "source": [
    "df_D = pd.read_excel('data_matstat.xls', sheet_name='D - homedat')\n",
    "df_D.head()"
   ]
  },
  {
   "cell_type": "code",
   "execution_count": 259,
   "metadata": {},
   "outputs": [
    {
     "data": {
      "text/html": [
       "<div>\n",
       "<style scoped>\n",
       "    .dataframe tbody tr th:only-of-type {\n",
       "        vertical-align: middle;\n",
       "    }\n",
       "\n",
       "    .dataframe tbody tr th {\n",
       "        vertical-align: top;\n",
       "    }\n",
       "\n",
       "    .dataframe thead th {\n",
       "        text-align: right;\n",
       "    }\n",
       "</style>\n",
       "<table border=\"1\" class=\"dataframe\">\n",
       "  <thead>\n",
       "    <tr style=\"text-align: right;\">\n",
       "      <th></th>\n",
       "      <th>D2</th>\n",
       "      <th>D3</th>\n",
       "      <th>D4</th>\n",
       "    </tr>\n",
       "  </thead>\n",
       "  <tbody>\n",
       "    <tr>\n",
       "      <th>0</th>\n",
       "      <td>2243</td>\n",
       "      <td>2289</td>\n",
       "      <td>2650</td>\n",
       "    </tr>\n",
       "    <tr>\n",
       "      <th>1</th>\n",
       "      <td>2255</td>\n",
       "      <td>2355</td>\n",
       "      <td>2600</td>\n",
       "    </tr>\n",
       "    <tr>\n",
       "      <th>2</th>\n",
       "      <td>2307</td>\n",
       "      <td>2443</td>\n",
       "      <td>2664</td>\n",
       "    </tr>\n",
       "    <tr>\n",
       "      <th>3</th>\n",
       "      <td>2232</td>\n",
       "      <td>2351</td>\n",
       "      <td>2921</td>\n",
       "    </tr>\n",
       "    <tr>\n",
       "      <th>4</th>\n",
       "      <td>2054</td>\n",
       "      <td>2113</td>\n",
       "      <td>2580</td>\n",
       "    </tr>\n",
       "    <tr>\n",
       "      <th>...</th>\n",
       "      <td>...</td>\n",
       "      <td>...</td>\n",
       "      <td>...</td>\n",
       "    </tr>\n",
       "    <tr>\n",
       "      <th>112</th>\n",
       "      <td>1067</td>\n",
       "      <td>1119</td>\n",
       "      <td>1229</td>\n",
       "    </tr>\n",
       "    <tr>\n",
       "      <th>113</th>\n",
       "      <td>987</td>\n",
       "      <td>1087</td>\n",
       "      <td>1273</td>\n",
       "    </tr>\n",
       "    <tr>\n",
       "      <th>114</th>\n",
       "      <td>1054</td>\n",
       "      <td>1137</td>\n",
       "      <td>1165</td>\n",
       "    </tr>\n",
       "    <tr>\n",
       "      <th>115</th>\n",
       "      <td>829</td>\n",
       "      <td>1052</td>\n",
       "      <td>1200</td>\n",
       "    </tr>\n",
       "    <tr>\n",
       "      <th>116</th>\n",
       "      <td>786</td>\n",
       "      <td>891</td>\n",
       "      <td>970</td>\n",
       "    </tr>\n",
       "  </tbody>\n",
       "</table>\n",
       "<p>117 rows × 3 columns</p>\n",
       "</div>"
      ],
      "text/plain": [
       "       D2    D3    D4\n",
       "0    2243  2289  2650\n",
       "1    2255  2355  2600\n",
       "2    2307  2443  2664\n",
       "3    2232  2351  2921\n",
       "4    2054  2113  2580\n",
       "..    ...   ...   ...\n",
       "112  1067  1119  1229\n",
       "113   987  1087  1273\n",
       "114  1054  1137  1165\n",
       "115   829  1052  1200\n",
       "116   786   891   970\n",
       "\n",
       "[117 rows x 3 columns]"
      ]
     },
     "execution_count": 259,
     "metadata": {},
     "output_type": "execute_result"
    }
   ],
   "source": [
    "#1.1\n",
    "df_task1_1 = df_D[[\"D2\", \"D3\", \"D4\"]]\n",
    "df_task1_1"
   ]
  },
  {
   "cell_type": "code",
   "execution_count": 260,
   "metadata": {},
   "outputs": [
    {
     "data": {
      "text/html": [
       "<div>\n",
       "<style scoped>\n",
       "    .dataframe tbody tr th:only-of-type {\n",
       "        vertical-align: middle;\n",
       "    }\n",
       "\n",
       "    .dataframe tbody tr th {\n",
       "        vertical-align: top;\n",
       "    }\n",
       "\n",
       "    .dataframe thead th {\n",
       "        text-align: right;\n",
       "    }\n",
       "</style>\n",
       "<table border=\"1\" class=\"dataframe\">\n",
       "  <thead>\n",
       "    <tr style=\"text-align: right;\">\n",
       "      <th></th>\n",
       "      <th>D2</th>\n",
       "      <th>D3</th>\n",
       "      <th>D4</th>\n",
       "    </tr>\n",
       "  </thead>\n",
       "  <tbody>\n",
       "    <tr>\n",
       "      <th>count</th>\n",
       "      <td>117.000000</td>\n",
       "      <td>117.000000</td>\n",
       "      <td>117.000000</td>\n",
       "    </tr>\n",
       "    <tr>\n",
       "      <th>mean</th>\n",
       "      <td>1166.461538</td>\n",
       "      <td>1260.444444</td>\n",
       "      <td>1653.854701</td>\n",
       "    </tr>\n",
       "    <tr>\n",
       "      <th>std</th>\n",
       "      <td>383.265024</td>\n",
       "      <td>388.552274</td>\n",
       "      <td>523.722802</td>\n",
       "    </tr>\n",
       "    <tr>\n",
       "      <th>min</th>\n",
       "      <td>594.000000</td>\n",
       "      <td>690.000000</td>\n",
       "      <td>837.000000</td>\n",
       "    </tr>\n",
       "    <tr>\n",
       "      <th>25%</th>\n",
       "      <td>904.000000</td>\n",
       "      <td>1002.000000</td>\n",
       "      <td>1280.000000</td>\n",
       "    </tr>\n",
       "    <tr>\n",
       "      <th>50%</th>\n",
       "      <td>1067.000000</td>\n",
       "      <td>1139.000000</td>\n",
       "      <td>1549.000000</td>\n",
       "    </tr>\n",
       "    <tr>\n",
       "      <th>75%</th>\n",
       "      <td>1286.000000</td>\n",
       "      <td>1404.000000</td>\n",
       "      <td>1894.000000</td>\n",
       "    </tr>\n",
       "    <tr>\n",
       "      <th>max</th>\n",
       "      <td>2307.000000</td>\n",
       "      <td>2443.000000</td>\n",
       "      <td>3750.000000</td>\n",
       "    </tr>\n",
       "  </tbody>\n",
       "</table>\n",
       "</div>"
      ],
      "text/plain": [
       "                D2           D3           D4\n",
       "count   117.000000   117.000000   117.000000\n",
       "mean   1166.461538  1260.444444  1653.854701\n",
       "std     383.265024   388.552274   523.722802\n",
       "min     594.000000   690.000000   837.000000\n",
       "25%     904.000000  1002.000000  1280.000000\n",
       "50%    1067.000000  1139.000000  1549.000000\n",
       "75%    1286.000000  1404.000000  1894.000000\n",
       "max    2307.000000  2443.000000  3750.000000"
      ]
     },
     "execution_count": 260,
     "metadata": {},
     "output_type": "execute_result"
    }
   ],
   "source": [
    "df_task1_1.describe()"
   ]
  },
  {
   "cell_type": "code",
   "execution_count": 261,
   "metadata": {},
   "outputs": [],
   "source": [
    "def sample_characteristic(df):\n",
    "    mu3 = 0\n",
    "    mu4 = 0\n",
    "    count = int(df.shape[0])\n",
    "    mean = df.mean()\n",
    "    std = df.std(ddof = 0)\n",
    "\n",
    "    for i in range(count):\n",
    "        mu3 += ((df[i] - mean)**3)\n",
    "        mu4 += ((df[i] - mean)**4)\n",
    "    mu3 /= count\n",
    "    mu4 /= count\n",
    "\n",
    "    coef_asym = mu3 / (std**3)\n",
    "    excess = (mu4 / (std**4)) - 3\n",
    "    \n",
    "    print(\"\\tstd: %.3f\" %std)\n",
    "    print(\"\\tvar: %.3f\" %(std**2))\n",
    "    print(\"\\tasymmetry: %.3f\" %coef_asym)\n",
    "    print(\"\\texcess: %.3f\" %excess)\n",
    "    "
   ]
  },
  {
   "cell_type": "code",
   "execution_count": 262,
   "metadata": {},
   "outputs": [
    {
     "name": "stdout",
     "output_type": "stream",
     "text": [
      "D2:\n",
      "\tstd: 381.624\n",
      "\tvar: 145636.590\n",
      "\tasymmetry: 1.381\n",
      "\texcess: 1.451\n",
      "D3:\n",
      "\tstd: 386.888\n",
      "\tvar: 149682.503\n",
      "\tasymmetry: 1.366\n",
      "\texcess: 1.450\n",
      "D4:\n",
      "\tstd: 521.480\n",
      "\tvar: 271941.252\n",
      "\tasymmetry: 1.172\n",
      "\texcess: 1.514\n"
     ]
    }
   ],
   "source": [
    "print(\"D2:\")\n",
    "sample_characteristic(df_task1_1[\"D2\"])\n",
    "\n",
    "print(\"D3:\")\n",
    "sample_characteristic(df_task1_1[\"D3\"])\n",
    "\n",
    "print(\"D4:\")\n",
    "sample_characteristic(df_task1_1[\"D4\"])"
   ]
  },
  {
   "cell_type": "code",
   "execution_count": 263,
   "metadata": {},
   "outputs": [
    {
     "name": "stdout",
     "output_type": "stream",
     "text": [
      "k = 7  interval width: 416.14285714285717\n"
     ]
    }
   ],
   "source": [
    "#1.2\n",
    "d4 = df_D[[\"D4\"]].to_numpy()\n",
    "sample_task1_2 = np.asarray([x[0] for x in d4])\n",
    "n = sample_task1_2.shape[0]\n",
    "\n",
    "k = math.floor(1 + math.log(n, 2))\n",
    "interval_width = (sample_task1_2.max() - sample_task1_2.min()) / k\n",
    "\n",
    "print(\"k =\", k, \" interval width:\", interval_width)"
   ]
  },
  {
   "cell_type": "code",
   "execution_count": 264,
   "metadata": {},
   "outputs": [],
   "source": [
    "def plot_hist(sample, bin_centers, frequency, weights, cumulative, str):\n",
    "    plt.hist(x = sample, bins = k, edgecolor = 'black', zorder = 0, cumulative = cumulative, weights = weights)\n",
    "    plt.plot(bin_centers, frequency, color = \"red\")\n",
    "    for i in range(k):\n",
    "        plt.scatter(bin_centers[i], frequency[i], color = \"red\", edgecolors = \"black\", zorder = 1)\n",
    "    plt.xticks(bin_centers)\n",
    "    plt.xlabel(\"значения\")\n",
    "    plt.ylabel(str)\n",
    "    plt.show()"
   ]
  },
  {
   "cell_type": "code",
   "execution_count": 265,
   "metadata": {},
   "outputs": [
    {
     "name": "stdout",
     "output_type": "stream",
     "text": [
      "     intervals  freq       rel   acum  rel_acum\n",
      "0   837 - 1253  26.0  0.222222   26.0  0.222222\n",
      "1  1253 - 1669  42.0  0.358974   68.0  0.581197\n",
      "2  1669 - 2085  27.0  0.230769   95.0  0.811966\n",
      "3  2085 - 2501  10.0  0.085470  105.0  0.897436\n",
      "4  2501 - 2917   9.0  0.076923  114.0  0.974359\n",
      "5  2917 - 3333   2.0  0.017094  116.0  0.991453\n",
      "6  3333 - 3750   1.0  0.008547  117.0  1.000000\n"
     ]
    },
    {
     "data": {
      "image/png": "[encoded data removed]",
      "text/plain": [
       "<Figure size 432x288 with 1 Axes>"
      ]
     },
     "metadata": {
      "needs_background": "light"
     },
     "output_type": "display_data"
    },
    {
     "data": {
      "image/png": "[encoded data removed]",
      "text/plain": [
       "<Figure size 432x288 with 1 Axes>"
      ]
     },
     "metadata": {
      "needs_background": "light"
     },
     "output_type": "display_data"
    },
    {
     "data": {
      "image/png": "[encoded data removed]",
      "text/plain": [
       "<Figure size 432x288 with 1 Axes>"
      ]
     },
     "metadata": {
      "needs_background": "light"
     },
     "output_type": "display_data"
    },
    {
     "data": {
      "image/png": "[encoded data removed]",
      "text/plain": [
       "<Figure size 432x288 with 1 Axes>"
      ]
     },
     "metadata": {
      "needs_background": "light"
     },
     "output_type": "display_data"
    },
    {
     "data": {
      "image/png": "[encoded data removed]",
      "text/plain": [
       "<Figure size 432x288 with 1 Axes>"
      ]
     },
     "metadata": {
      "needs_background": "light"
     },
     "output_type": "display_data"
    }
   ],
   "source": [
    "#гистограмма и полигон частот\n",
    "frequency, interval_borders, _ = plt.hist(x = sample_task1_2, bins = k, edgecolor = 'black', zorder = 0)\n",
    "\n",
    "bin_centers = [(interval_borders[i] + interval_borders[i + 1]) / 2 for i in range(k)]\n",
    "plt.xticks(bin_centers)\n",
    "plt.xlabel(\"значения\")\n",
    "plt.ylabel(\"частота\")\n",
    "\n",
    "intervals = []\n",
    "for i in range(k):\n",
    "    intervals.append(str(int(interval_borders[i])) + \" - \" + str(int(interval_borders[i + 1])))\n",
    "\n",
    "relative_frequency = [x / n for x in frequency]\n",
    "accumulated_frequency = [sum(frequency[:(i + 1)]) for i in range(7)]\n",
    "rel_accum_frequency = [x / n for x in accumulated_frequency]\n",
    "\n",
    "df_task1_2 = pd.DataFrame({\"intervals\": intervals, \"freq\": frequency, \"rel\": relative_frequency, \"acum\": accumulated_frequency, \"rel_acum\": rel_accum_frequency})\n",
    "print(df_task1_2)\n",
    "\n",
    "plt.plot(bin_centers, frequency, color = \"red\")\n",
    "for i in range(k):\n",
    "    plt.scatter(bin_centers[i], frequency[i], color = \"red\", edgecolors = \"black\", zorder = 1)\n",
    "plt.show()\n",
    "\n",
    "#гистограмма и полигон относительных частот\n",
    "plot_hist(sample_task1_2, bin_centers, relative_frequency, (sample_task1_2.shape[0] * [1 / sample_task1_2.shape[0]]), False, \"относ. частота\")\n",
    "\n",
    "#гистограмма и полигон накопленных частот\n",
    "plot_hist(sample_task1_2, bin_centers, accumulated_frequency, None, True, \"накоп. частота\")\n",
    "\n",
    "#гистограмма и полигон относительных накопленных частот\n",
    "plot_hist(sample_task1_2, bin_centers, rel_accum_frequency, (sample_task1_2.shape[0] * [1 / sample_task1_2.shape[0]]), True, \"относ. накоп. частота\")\n",
    "\n",
    "#эмпирическая функция распределения\n",
    "ecdf = ECDF(sample_task1_2.tolist())\n",
    "plt.step(ecdf.x, ecdf.y)\n",
    "plt.xlabel(\"значения\")\n",
    "plt.ylabel(\"вероятность\")\n",
    "plt.show()"
   ]
  },
  {
   "cell_type": "code",
   "execution_count": 266,
   "metadata": {},
   "outputs": [],
   "source": [
    "def calc_cl_mean(sample, alpha):\n",
    "    n = sample.shape[0]\n",
    "    sample_mean = sample.mean()\n",
    "    scale = ((sample.var() * n / (n - 1))**(0.5)) / (n**(0.5)) * sps.t(df = (n - 1)).ppf(1 - (alpha / 2))\n",
    "    return (sample_mean - scale, sample_mean + scale)"
   ]
  },
  {
   "cell_type": "code",
   "execution_count": 267,
   "metadata": {},
   "outputs": [],
   "source": [
    "def calc_cl_var(sample, alpha):\n",
    "    n = sample.shape[0]\n",
    "    s2 = sample.var() * n / (n - 1)\n",
    "    left = (n - 1) * s2 / sps.chi2(df = n - 1).ppf(1 - (alpha / 2))\n",
    "    right = (n - 1) * s2 / sps.chi2(df = n - 1).ppf(alpha / 2)\n",
    "    return (left, right)"
   ]
  },
  {
   "cell_type": "code",
   "execution_count": 268,
   "metadata": {},
   "outputs": [],
   "source": [
    "def calc_cl_diff_mean(sample1, sample2, alpha):\n",
    "    n1 = sample1.shape[0]\n",
    "    n2 = sample2.shape[0]\n",
    "\n",
    "    mean_diff = sample1.mean() - sample2.mean()\n",
    "    s2_1 = sample1.var() * n1 / (n1 - 1)\n",
    "    s2_2 = sample2.var() * n2 / (n2 - 1)\n",
    "\n",
    "    k = (((s2_1 / n1) + (s2_2 / n2))**2) / ((((s2_1 / n1)**2) / (n1 - 1)) + (((s2_2 / n2)**2) / (n2 - 1)))\n",
    "\n",
    "    scale = (s2_1 / n1) + (s2_2 / n2) * sps.t(df = k).ppf(1 - alpha / 2)\n",
    "    return (mean_diff - scale, mean_diff + scale)"
   ]
  },
  {
   "cell_type": "code",
   "execution_count": 269,
   "metadata": {},
   "outputs": [],
   "source": [
    "def calc_cl_relate_var(sample1, sample2, alpha):\n",
    "    n1 = sample1.shape[0]\n",
    "    n2 = sample2.shape[0]\n",
    "    relation = (sample1.var() * n1 / (n1 - 1)) / (sample2.var() * n2 / (n2 - 1))\n",
    "\n",
    "    left = relation * sps.f(dfn = (n2 - 1), dfd = (n1 - 1)).ppf(alpha / 2)\n",
    "    right = relation * sps.f(dfn = (n2 - 1), dfd = (n1 - 1)).ppf(1 - (alpha / 2))\n",
    "    return (left, right)"
   ]
  },
  {
   "cell_type": "markdown",
   "metadata": {},
   "source": [
    "<h1>Часть 2</h1>"
   ]
  },
  {
   "cell_type": "code",
   "execution_count": 270,
   "metadata": {},
   "outputs": [
    {
     "name": "stdout",
     "output_type": "stream",
     "text": [
      "mean:\n",
      "alpha = 0.01:  (1527.053379955637, 1780.656021753765)\n",
      "alpha = 0.05:  (1557.9563743732806, 1749.7530273361212)\n",
      "alpha = 0.10:  (1573.572705755248, 1734.1366959541538)\n"
     ]
    }
   ],
   "source": [
    "#2.1\n",
    "d4 = df_D[[\"D4\"]].to_numpy()\n",
    "sample_task2_1 = np.asarray([x[0] for x in d4])\n",
    "\n",
    "print(\"mean:\")\n",
    "for alpha in [0.01, 0.05, 0.1]:\n",
    "    print(\"alpha = %.2f: \" %alpha, calc_cl_mean(sample_task2_1, alpha))"
   ]
  },
  {
   "cell_type": "code",
   "execution_count": 271,
   "metadata": {},
   "outputs": [
    {
     "name": "stdout",
     "output_type": "stream",
     "text": [
      "var:\n",
      "alpha = 0.01:  (200136.47886326932, 395135.1200697979)\n",
      "alpha = 0.05:  (215416.9162745369, 361214.8418452665)\n",
      "alpha = 0.10:  (223846.47811100548, 345336.2319924246)\n"
     ]
    }
   ],
   "source": [
    "#2.2\n",
    "d4 = df_D[[\"D4\"]].to_numpy()\n",
    "sample_task2_2 = np.asarray([x[0] for x in d4])\n",
    "\n",
    "print(\"var:\")\n",
    "for alpha in [0.01, 0.05, 0.1]:\n",
    "    print(\"alpha = %.2f: \" %alpha, calc_cl_var(sample_task2_1, alpha))"
   ]
  },
  {
   "cell_type": "code",
   "execution_count": 272,
   "metadata": {},
   "outputs": [
    {
     "name": "stdout",
     "output_type": "stream",
     "text": [
      "mean1: 1062.735\n",
      "mean2: 1166.462\n",
      "\n",
      "\n",
      "mean diff:\n",
      "alpha = 0.01:  (-4601.492193940156, 4394.0392024871635)\n",
      "alpha = 0.05:  (-3814.3702203339617, 3606.9172288809705)\n",
      "alpha = 0.10:  (-3414.12813012652, 3206.6751386735286)\n"
     ]
    }
   ],
   "source": [
    "#2.3\n",
    "d1 = df_D[[\"D1\"]].to_numpy()\n",
    "sample_task2_3_first = np.asarray([x[0] for x in d1])\n",
    "\n",
    "d2 = df_D[[\"D2\"]].to_numpy()\n",
    "sample_task2_3_second = np.asarray([x[0] for x in d2])\n",
    "\n",
    "print(\"mean1: %.3f\" %sample_task2_3_first.mean())\n",
    "print(\"mean2: %.3f\" %sample_task2_3_second.mean())\n",
    "print(\"\\n\")\n",
    "\n",
    "print(\"mean diff:\")\n",
    "for alpha in [0.01, 0.05, 0.1]:\n",
    "    print(\"alpha = %.2f: \" %alpha, calc_cl_diff_mean(sample_task2_3_first, sample_task2_3_second, alpha))"
   ]
  },
  {
   "cell_type": "code",
   "execution_count": 273,
   "metadata": {},
   "outputs": [
    {
     "name": "stdout",
     "output_type": "stream",
     "text": [
      "var1: 144732.300\n",
      "var2: 146892.078\n",
      "\n",
      "\n",
      "var relation:\n",
      "alpha = 0.01:  (0.6086836051247637, 1.594933469837989)\n",
      "alpha = 0.05:  (0.6834763195091624, 1.420400131861659)\n",
      "alpha = 0.10:  (0.7250537238003867, 1.3389488564607495)\n"
     ]
    }
   ],
   "source": [
    "#2.4\n",
    "d1 = df_D[[\"D1\"]].to_numpy()\n",
    "sample_task2_4_first = np.asarray([x[0] for x in d1])\n",
    "\n",
    "d2 = df_D[[\"D2\"]].to_numpy()\n",
    "sample_task2_4_second = np.asarray([x[0] for x in d2])\n",
    "\n",
    "n1 = sample_task2_4_first.shape[0]\n",
    "n2 = sample_task2_4_second.shape[0]\n",
    "\n",
    "print(\"var1: %.3f\" %(sample_task2_4_first.var() * n1 / (n1 - 1)))\n",
    "print(\"var2: %.3f\" %(sample_task2_4_second.var() * n2 / (n2 - 1)))\n",
    "print(\"\\n\")\n",
    "\n",
    "print(\"var relation:\")\n",
    "for alpha in [0.01, 0.05, 0.1]:\n",
    "    print(\"alpha = %.2f: \" %alpha, calc_cl_relate_var(sample_task2_4_first, sample_task2_4_second, alpha))"
   ]
  },
  {
   "cell_type": "markdown",
   "metadata": {},
   "source": [
    "<h1>Часть 3</h1>"
   ]
  },
  {
   "cell_type": "code",
   "execution_count": 274,
   "metadata": {},
   "outputs": [
    {
     "name": "stdout",
     "output_type": "stream",
     "text": [
      "mean = 1653: statistic = 0.018, p-value = 0.986\n",
      "mean = 1660: statistic = -0.127, p-value = 0.899\n",
      "mean = 1800: statistic = -3.018, p-value = 0.003\n"
     ]
    }
   ],
   "source": [
    "#3.1\n",
    "d4 = df_D[[\"D4\"]].to_numpy()\n",
    "sample_task3_1 = np.asarray([x[0] for x in d4])\n",
    "\n",
    "result1 = sps.ttest_1samp(sample_task3_1, 1653)\n",
    "result2 = sps.ttest_1samp(sample_task3_1, 1660)\n",
    "result3 = sps.ttest_1samp(sample_task3_1, 1800)\n",
    "\n",
    "print(\"mean = 1653: statistic = %.3f, p-value = %.3f\" %(result1[0], result1[1]))\n",
    "print(\"mean = 1660: statistic = %.3f, p-value = %.3f\" %(result2[0], result2[1]))\n",
    "print(\"mean = 1800: statistic = %.3f, p-value = %.3f\" %(result3[0], result3[1]))"
   ]
  },
  {
   "cell_type": "code",
   "execution_count": 275,
   "metadata": {},
   "outputs": [],
   "source": [
    "def calc_chi2_criterion(sample, var0):\n",
    "    n = sample.shape[0]\n",
    "    statistic = (n - 1) * sample.var(ddof=1) / var0\n",
    "    f_z = sps.chi2.cdf(statistic, n - 1)\n",
    "    p_value = 2 * min(f_z, 1 - f_z)\n",
    "    print(\"mean = %i: statistic = %.3f, p-value = %.3f\" %(var0, statistic, p_value))"
   ]
  },
  {
   "cell_type": "code",
   "execution_count": 276,
   "metadata": {},
   "outputs": [
    {
     "name": "stdout",
     "output_type": "stream",
     "text": [
      "mean = 271941: statistic = 117.000, p-value = 0.913\n",
      "mean = 275000: statistic = 115.699, p-value = 0.981\n",
      "mean = 200000: statistic = 159.086, p-value = 0.010\n"
     ]
    }
   ],
   "source": [
    "#3.2\n",
    "d4 = df_D[[\"D4\"]].to_numpy()\n",
    "sample_task3_2 = np.asarray([x[0] for x in d4])\n",
    "\n",
    "calc_chi2_criterion(sample_task3_2, 271941)\n",
    "calc_chi2_criterion(sample_task3_2, 275000)\n",
    "calc_chi2_criterion(sample_task3_2, 200000)"
   ]
  },
  {
   "cell_type": "code",
   "execution_count": 277,
   "metadata": {},
   "outputs": [
    {
     "name": "stdout",
     "output_type": "stream",
     "text": [
      "statistic = -2.073, p-value = 0.039\n"
     ]
    }
   ],
   "source": [
    "#3.3\n",
    "d1 = df_D[[\"D1\"]].to_numpy()\n",
    "sample_task3_3_first = np.asarray([x[0] for x in d1])\n",
    "\n",
    "d2 = df_D[[\"D2\"]].to_numpy()\n",
    "sample_task3_3_second = np.asarray([x[0] for x in d2])\n",
    "\n",
    "var1 = sample_task3_3_first.var(ddof = 1)\n",
    "var2 = sample_task3_3_second.var(ddof = 2)\n",
    "\n",
    "n1 = sample_task3_3_first.shape[0]\n",
    "n2 = sample_task3_3_second.shape[0]\n",
    "\n",
    "statistic = (sample_task3_3_first.mean() - sample_task3_3_second.mean()) / ((var1/n1 + var2/n2)**(0.5))\n",
    "k = ((var1/n1 / (var1/n1 + var2/n2))**(2)) / (n1 - 1) + ((var2/n2 / (var1/n1 + var2/n2))**(2)) / (n2 - 1)\n",
    "df = round(1 / k)\n",
    "f_z = sps.t.cdf(statistic, df = df)\n",
    "p_value = 2 * min(f_z, 1 - f_z)\n",
    "\n",
    "print(\"statistic = %.3f, p-value = %.3f\" %(statistic, p_value))"
   ]
  },
  {
   "cell_type": "code",
   "execution_count": 278,
   "metadata": {},
   "outputs": [
    {
     "name": "stdout",
     "output_type": "stream",
     "text": [
      "statistic = 0.977, p-value = 0.900\n"
     ]
    }
   ],
   "source": [
    "#3.4\n",
    "d1 = df_D[[\"D1\"]].to_numpy()\n",
    "sample_task2_3_first = np.asarray([x[0] for x in d1])\n",
    "\n",
    "d2 = df_D[[\"D2\"]].to_numpy()\n",
    "sample_task2_3_second = np.asarray([x[0] for x in d2])\n",
    "\n",
    "var1 = sample_task3_3_first.var(ddof = 1)\n",
    "var2 = sample_task3_3_second.var(ddof = 2)\n",
    "\n",
    "n1 = sample_task3_3_first.shape[0]\n",
    "n2 = sample_task3_3_second.shape[0]\n",
    "\n",
    "statistic = var1 / var2\n",
    "f_z = sps.f.cdf(statistic, dfn = n1 - 1, dfd = n2 - 1)\n",
    "p_value = 2 * min(f_z, 1 - f_z)\n",
    "print(\"statistic = %.3f, p-value = %.3f\" %(statistic, p_value))"
   ]
  },
  {
   "cell_type": "markdown",
   "metadata": {},
   "source": [
    "<h1>Часть 4</h1>"
   ]
  },
  {
   "cell_type": "code",
   "execution_count": 279,
   "metadata": {},
   "outputs": [
    {
     "name": "stdout",
     "output_type": "stream",
     "text": [
      "k = 8\n",
      "\n"
     ]
    },
    {
     "data": {
      "image/png": "[encoded data removed]",
      "text/plain": [
       "<Figure size 432x288 with 1 Axes>"
      ]
     },
     "metadata": {
      "needs_background": "light"
     },
     "output_type": "display_data"
    },
    {
     "name": "stdout",
     "output_type": "stream",
     "text": [
      "[3750]\n",
      "k = 8\n",
      "\n",
      "p:  [9.709493314458705, 17.36324062298821, 23.389203289510164, 23.734300960197228, 18.14325138484982, 10.447395195591444, 4.531144722127662, 1.4799451006681035]\n",
      "interval: 261.750 \n",
      "\n",
      "             borders  freq       rel         p\n",
      "0   [837.0, 1098.75]  12.0  0.104348  0.084430\n",
      "1  [1098.75, 1360.5]  28.0  0.243478  0.150985\n",
      "2  [1360.5, 1622.25]  25.0  0.217391  0.203384\n",
      "3  [1622.25, 1884.0]  22.0  0.191304  0.206385\n",
      "4  [1884.0, 2145.75]   9.0  0.078261  0.157767\n",
      "5  [2145.75, 2407.5]   8.0  0.069565  0.090847\n",
      "6   [2407.5, 2931.0]  12.0  0.104348  0.052270\n",
      "\n",
      "\n",
      "statistic = 18.442, p-value = 0.001\n"
     ]
    },
    {
     "data": {
      "image/png": "[encoded data removed]",
      "text/plain": [
       "<Figure size 432x288 with 1 Axes>"
      ]
     },
     "metadata": {
      "needs_background": "light"
     },
     "output_type": "display_data"
    }
   ],
   "source": [
    "#4.1\n",
    "d4 = df_D[[\"D4\"]].to_numpy()\n",
    "sample_task4_1 = np.asarray([x[0] for x in d4])\n",
    "\n",
    "n = sample_task4_1.shape[0]\n",
    "k = round(1 + math.log(n, 2))\n",
    "print(\"k = %i\\n\" %k)\n",
    "\n",
    "plt.hist(sample_task4_1, bins = k)\n",
    "plt.show()\n",
    "print(sample_task4_1[sample_task4_1 > 3000])\n",
    "\n",
    "sample_task4_1 = sample_task4_1[sample_task4_1 <= 3000]\n",
    "\n",
    "n = sample_task4_1.shape[0] - 1\n",
    "mean = sample_task4_1.mean()\n",
    "std = sample_task4_1.std()\n",
    "\n",
    "k = round(1 + math.log(n, 2))\n",
    "print(\"k = %i\\n\" %k)\n",
    "\n",
    "result = plt.hist(sample_task4_1, bins = k)\n",
    "\n",
    "frequency = result[0]\n",
    "rel_freq = [frequency[i] / n for i in range(k)]\n",
    "borders = [[result[1][i], result[1][i + 1]] for i in range(k)]\n",
    "p = [sps.norm(loc = mean, scale = std).cdf(borders[i][1]) - sps.norm(loc = mean, scale = std).cdf(borders[i][0]) for i in range(k)]\n",
    "\n",
    "print(\"p: \", [p[i] * n for i in range(k)])\n",
    "\n",
    "p[-2] += p[-1]\n",
    "p = p[:-1]\n",
    "\n",
    "frequency[-2] += frequency[-1]\n",
    "frequency = frequency[:-1]\n",
    "\n",
    "rel_freq[-2] += rel_freq[-1]\n",
    "rel_freq = rel_freq[:-1]\n",
    "\n",
    "borders[-2][1] = borders[-1][1]\n",
    "borders = borders[:-1]\n",
    "\n",
    "k -= 1\n",
    "\n",
    "print(\"interval: %.3f \\n\" %(borders[0][1] - borders[0][0]))\n",
    "\n",
    "df_task4_1 = pd.DataFrame({\"borders\": borders, \"freq\": frequency, \"rel\": rel_freq, \"p\": p})\n",
    "print(df_task4_1)\n",
    "print(\"\\n\")\n",
    "\n",
    "\n",
    "statistic = sum([((frequency[i] - n * p[i])**2) / (n * p[i]) for i in range(k)]) \n",
    "p_value = 1 - sps.chi2.cdf(statistic, df = k - 2 - 1)\n",
    "print(\"statistic = %.3f, p-value = %.3f\" %(statistic, p_value))"
   ]
  },
  {
   "cell_type": "code",
   "execution_count": 280,
   "metadata": {},
   "outputs": [
    {
     "data": {
      "image/png": "[encoded data removed]",
      "text/plain": [
       "<Figure size 432x288 with 1 Axes>"
      ]
     },
     "metadata": {
      "needs_background": "light"
     },
     "output_type": "display_data"
    }
   ],
   "source": [
    "x = np.linspace(0, 3000, 20000)\n",
    "plt.hist(sample_task4_1, bins = [borders[i][0] for i in range(k)].append(borders[k-1][1]), density = True, stacked = True)\n",
    "plt.plot(x, sps.norm(loc = mean, scale = std).pdf(x))\n",
    "plt.ylabel('$f_X(x|H_0)$')\n",
    "plt.xlabel('$x$')\n",
    "plt.show()"
   ]
  },
  {
   "cell_type": "code",
   "execution_count": 281,
   "metadata": {},
   "outputs": [
    {
     "name": "stdout",
     "output_type": "stream",
     "text": [
      "statistic = 37.968, p-value = 0.000\n"
     ]
    }
   ],
   "source": [
    "#4.2\n",
    "d4 = df_D[[\"D4\"]].to_numpy()\n",
    "sample_task4_1 = np.asarray([x[0] for x in d4])\n",
    "\n",
    "result = sps.jarque_bera(sample_task4_1)\n",
    "print(\"statistic = %.3f, p-value = %.3f\" %(result[0], result[1]))"
   ]
  },
  {
   "cell_type": "markdown",
   "metadata": {},
   "source": [
    "<h1>Часть 5</h1>"
   ]
  },
  {
   "cell_type": "code",
   "execution_count": 282,
   "metadata": {},
   "outputs": [
    {
     "name": "stdout",
     "output_type": "stream",
     "text": [
      "0\n",
      "statistic = -58.500, p-value = 0.000\n"
     ]
    }
   ],
   "source": [
    "#5.1\n",
    "d1 = df_D[[\"D1\"]].to_numpy()\n",
    "sample_task5_1_first = np.asarray([x[0] for x in d1])\n",
    "\n",
    "d2 = df_D[[\"D2\"]].to_numpy()\n",
    "sample_task5_1_second = np.asarray([x[0] for x in d2])\n",
    "\n",
    "n = sample_task5_1_first.shape[0]\n",
    "sign = [sample_task5_1_first[i] - sample_task5_1_second[i] for i in range(n)]\n",
    "k = 0\n",
    "for i in range(n):\n",
    "    if sign[i] == 0:\n",
    "        k += 1\n",
    "\n",
    "print(k)\n",
    "\n",
    "result = sign_test([sign[i] for i in range(n)])\n",
    "print(\"statistic = %.3f, p-value = %.3f\" %(result[0], result[1]))"
   ]
  },
  {
   "cell_type": "code",
   "execution_count": 283,
   "metadata": {},
   "outputs": [
    {
     "name": "stdout",
     "output_type": "stream",
     "text": [
      "k = 8\n",
      "\n",
      "interval: 220.875\n",
      "              borders  freq1  freq2      rel1      rel2\n",
      "0     540.0 - 760.875     26      8  0.222222  0.068376\n",
      "1    760.875 - 981.75     37     30  0.316239  0.256410\n",
      "2   981.75 - 1202.625     25     43  0.213675  0.367521\n",
      "3   1202.625 - 1423.5     12     17  0.102564  0.145299\n",
      "4   1423.5 - 1644.375      6      4  0.051282  0.034188\n",
      "5  1644.375 - 1865.25      3      4  0.025641  0.034188\n",
      "6  1865.25 - 2086.125      4      5  0.034188  0.042735\n",
      "7   2086.125 - 2307.0      4      5  0.034188  0.042735\n",
      "\n",
      "\n",
      "statistic = 16.653, p-value = 0.020\n"
     ]
    }
   ],
   "source": [
    "#5.2\n",
    "d1 = df_D[[\"D1\"]].to_numpy()\n",
    "sample_task5_2_first = np.asarray([x[0] for x in d1])\n",
    "\n",
    "d2 = df_D[[\"D2\"]].to_numpy()\n",
    "sample_task5_2_second = np.asarray([x[0] for x in d2])\n",
    "\n",
    "k = round(1 + math.log(n, 2))\n",
    "print(\"k = %i\\n\" %k)\n",
    "\n",
    "n = sample_task5_2_first.shape[0]\n",
    "\n",
    "min_value = min(min(sample_task5_2_first), min(sample_task5_2_second))\n",
    "interval = (max(max(sample_task5_2_first), max(sample_task5_2_second)) - min_value) / k\n",
    "\n",
    "print(\"interval:\", interval)\n",
    "\n",
    "chi2_norm_value = 0\n",
    "chi2_uniform_value = 0\n",
    "chi2_chi2_value = 0\n",
    "\n",
    "frequency_x = 0\n",
    "frequency_y = 0\n",
    "statistic = 0\n",
    "bins = 0\n",
    "\n",
    "borders = []\n",
    "borders_dig = []\n",
    "frequency1 = []\n",
    "frequency2 = []\n",
    "\n",
    "for i in range(k):\n",
    "    a = min_value + i*interval\n",
    "    b = min_value + (i + 1)*interval\n",
    "\n",
    "    borders.append(str(a) + \" - \" + str(b))\n",
    "    borders_dig.append(a)\n",
    "\n",
    "    current_x = sample_task5_2_first[(sample_task5_2_first >= a) & (sample_task5_2_first < b)].size\n",
    "    current_y = sample_task5_2_second[(sample_task5_2_second >= a) & (sample_task5_2_second < b)].size\n",
    "\n",
    "    if ((current_x * n < 5) | (current_y * n < 5)):\n",
    "        frequency_x += current_x\n",
    "        frequency_y += current_y\n",
    "    else:\n",
    "        frequency_x = current_x\n",
    "        frequency_y = current_y\n",
    "\n",
    "        frequency1.append(frequency_x)\n",
    "        frequency2.append(frequency_y)\n",
    "\n",
    "        statistic += (((frequency_x/n - frequency_y/n)**2) * (1 / (frequency_x + frequency_y)))\n",
    "        bins += 1\n",
    "\n",
    "borders_dig.append(max(max(sample_task5_2_first), max(sample_task5_2_second)))\n",
    "\n",
    "rel_freq1 = [x / n for x in frequency1]\n",
    "rel_freq2 = [x / n for x in frequency2]\n",
    "\n",
    "df_task5_2 = pd.DataFrame({\"borders\": borders, \"freq1\": frequency1, \"freq2\": frequency2, \"rel1\": rel_freq1, \"rel2\": rel_freq2})\n",
    "print(df_task5_2)\n",
    "print(\"\\n\")\n",
    "\n",
    "statistic *= n * n\n",
    "p_value = 1 - sps.chi2(df = (k - 1)).cdf(statistic)\n",
    "print(\"statistic = %.3f, p-value = %.3f\" %(statistic, p_value))\n"
   ]
  },
  {
   "cell_type": "code",
   "execution_count": 284,
   "metadata": {},
   "outputs": [
    {
     "data": {
      "image/png": "[encoded data removed]",
      "text/plain": [
       "<Figure size 432x288 with 1 Axes>"
      ]
     },
     "metadata": {
      "needs_background": "light"
     },
     "output_type": "display_data"
    }
   ],
   "source": [
    "plt.hist(sample_task5_2_first, bins = borders_dig, density = True)\n",
    "plt.hist(sample_task5_2_second, bins = borders_dig, color = \"red\", alpha = 0.5, density = True)\n",
    "plt.ylabel('относ. частоты')\n",
    "plt.xlabel('значения')\n",
    "plt.show()"
   ]
  },
  {
   "cell_type": "markdown",
   "metadata": {},
   "source": [
    "<h1>Часть 6</h1>"
   ]
  },
  {
   "cell_type": "code",
   "execution_count": 285,
   "metadata": {},
   "outputs": [
    {
     "name": "stdout",
     "output_type": "stream",
     "text": [
      "Frequency: \n",
      " [[12. 29.]\n",
      " [10. 35.]\n",
      " [ 5. 26.]]\n",
      "X borders:  [1.         1.66666667 2.33333333 3.        ]\n",
      "Y borders:  [1.  1.5 2. ]\n",
      "\n",
      "\n",
      "Z: 1.747\n",
      "p-value: 0.418\n",
      "Frequency: \n",
      " [[ 9.46153846 31.53846154]\n",
      " [10.38461538 34.61538462]\n",
      " [ 7.15384615 23.84615385]]\n"
     ]
    },
    {
     "data": {
      "image/png": "[encoded data removed]",
      "text/plain": [
       "<Figure size 432x288 with 1 Axes>"
      ]
     },
     "metadata": {
      "needs_background": "light"
     },
     "output_type": "display_data"
    }
   ],
   "source": [
    "#6\n",
    "d7 = df_D[[\"D7\"]].to_numpy()\n",
    "sample_task6_first = np.asarray([x[0] for x in d7])\n",
    "\n",
    "d8 = df_D[[\"D8\"]].to_numpy()\n",
    "sample_task6_second = np.asarray([x[0] for x in d8])\n",
    "\n",
    "n = sample_task6_first.shape[0]\n",
    "sample_x = []\n",
    "sample_y = []\n",
    "\n",
    "for i in range(n):\n",
    "    if sample_task6_first[i] == \"north\":\n",
    "        sample_x.append(1)\n",
    "    elif sample_task6_first[i] == \"south\":\n",
    "        sample_x.append(2)\n",
    "    else:\n",
    "        sample_x.append(3)\n",
    "\n",
    "    if sample_task6_second[i] == \"Y\":\n",
    "        sample_y.append(1)\n",
    "    else:\n",
    "        sample_y.append(2)\n",
    "\n",
    "result = plt.hist2d(sample_x, sample_y, bins = [3, 2])\n",
    "print(\"Frequency: \\n\", result[0])\n",
    "print(\"X borders: \", result[1])\n",
    "print(\"Y borders: \", result[2])\n",
    "\n",
    "print(\"\\n\")\n",
    "\n",
    "frequency = result[0]\n",
    "result2 = sps.chi2_contingency(frequency)\n",
    "print(\"Z: %.3f\" %result2[0])\n",
    "print(\"p-value: %.3f\" %result2[1])\n",
    "print(\"Frequency: \\n\", result2[3])"
   ]
  },
  {
   "cell_type": "markdown",
   "metadata": {},
   "source": [
    "<h1>Часть 7</h1>"
   ]
  },
  {
   "cell_type": "code",
   "execution_count": 286,
   "metadata": {},
   "outputs": [
    {
     "name": "stdout",
     "output_type": "stream",
     "text": [
      "1: n = 41, mean = 6.117, var = 0.186\n",
      "2: n = 45, mean = 6.178, var = 0.145\n",
      "3: n = 31, mean = 6.453, var = 0.285\n",
      "\n",
      "\n",
      "Grouping characteristic:\n",
      "\tvalue: 0.0187\n",
      "\tfreedom degree: 2\n",
      "\tunbiased value: 1.093\n",
      "\n",
      "\n",
      "residual characteristic:\n",
      "\tvalue: 0.1966\n",
      "\tfreedom degree: 114\n",
      "\tunbiased value: 0.202\n",
      "\n",
      "\n",
      "all characteristic:\n",
      "\tvalue: 0.215\n",
      "\tfreedom degree: 116\n",
      "\tunbiased value: 0.217\n",
      "\n",
      "\n",
      "coefficient of determination: 0.087\n",
      "coefficient of correlation: 0.295\n",
      "\n",
      "\n",
      "statistic: 5.413\n",
      "p_value: 0.006\n"
     ]
    }
   ],
   "source": [
    "#7\n",
    "d7 = df_D[[\"D7\"]].to_numpy()\n",
    "sample_task7_first = np.asarray([x[0] for x in d7])\n",
    "\n",
    "d9 = df_D[[\"D9\"]].to_numpy()\n",
    "sample_task7_second = np.asarray([x[0] for x in d9])\n",
    "\n",
    "sample1 = []\n",
    "sample2 = []\n",
    "sample3 = []\n",
    "\n",
    "n = sample_task7_first.shape[0]\n",
    "\n",
    "for i in range(n):\n",
    "    if sample_task6_first[i] == \"north\":\n",
    "        sample1.append(sample_task7_second[i])\n",
    "    elif sample_task6_first[i] == \"south\":\n",
    "        sample2.append(sample_task7_second[i])\n",
    "    else:\n",
    "        sample3.append(sample_task7_second[i])\n",
    "\n",
    "sample1 = np.asarray(sample1)\n",
    "sample2 = np.asarray(sample2)\n",
    "sample3 = np.asarray(sample3)\n",
    "\n",
    "print(\"1: n = %i, mean = %.3f, var = %.3f\" %(sample1.shape[0], sample1.mean(), sample1.var()))\n",
    "print(\"2: n = %i, mean = %.3f, var = %.3f\" %(sample2.shape[0], sample2.mean(), sample2.var()))\n",
    "print(\"3: n = %i, mean = %.3f, var = %.3f\" %(sample3.shape[0], sample3.mean(), sample3.var()))\n",
    "\n",
    "n_i = [sample1.shape[0], sample2.shape[0], sample3.shape[0]]\n",
    "sample_means = [sample1.mean(), sample2.mean(), sample3.mean()]\n",
    "sample_vars = [sample1.var(), sample2.var(), sample3.var()]\n",
    "pooled_mean = sample_task7_second.mean()\n",
    "pooled_var = sample_task7_second.var()\n",
    "\n",
    "D_b = 0\n",
    "D_w = 0\n",
    "\n",
    "for i in range(3):\n",
    "    D_b += (n_i[i] * ((sample_means[i] - pooled_mean)**2))\n",
    "    D_w += (n_i[i] * sample_vars[i])\n",
    "\n",
    "D_b /= n\n",
    "D_w /= n\n",
    "\n",
    "coef_determ = D_b / pooled_var\n",
    "coef_corr = coef_determ**(0.5)\n",
    "\n",
    "statistic, p_value = sps.f_oneway(sample1, sample2, sample3)\n",
    "\n",
    "print(\"\\n\")\n",
    "print(\"Grouping characteristic:\")\n",
    "print(\"\\tvalue: %.4f\" %D_b)\n",
    "print(\"\\tfreedom degree: 2\")\n",
    "print(\"\\tunbiased value: %.3f\" %((n / 2) * D_b))\n",
    "print(\"\\n\")\n",
    "\n",
    "print(\"residual characteristic:\")\n",
    "print(\"\\tvalue: %.4f\" %D_w)\n",
    "print(\"\\tfreedom degree: %i\" %(n - 3))\n",
    "print(\"\\tunbiased value: %.3f\" %(n / (n - 3) * D_w))\n",
    "print(\"\\n\")\n",
    "\n",
    "print(\"all characteristic:\")\n",
    "print(\"\\tvalue: %.3f\" %pooled_var)\n",
    "print(\"\\tfreedom degree: %i\" %(n - 1))\n",
    "print(\"\\tunbiased value: %.3f\" %(n / (n - 1) * pooled_var))\n",
    "print(\"\\n\")\n",
    "\n",
    "print(\"coefficient of determination: %.3f\" %coef_determ)\n",
    "print(\"coefficient of correlation: %.3f\" %coef_corr)\n",
    "print(\"\\n\")\n",
    "\n",
    "print(\"statistic: %.3f\" %statistic)\n",
    "print(\"p_value: %.3f\" %p_value)"
   ]
  },
  {
   "cell_type": "markdown",
   "metadata": {},
   "source": [
    "<h1>Часть 8</h1>"
   ]
  },
  {
   "cell_type": "code",
   "execution_count": 287,
   "metadata": {},
   "outputs": [
    {
     "name": "stdout",
     "output_type": "stream",
     "text": [
      "Pearson:\n",
      "\tstatistics: 0.180\n",
      "\tp-value: 0.052\n",
      "Spearman:\n",
      "\tstatistics: 0.029\n",
      "\tp-value: 0.753\n",
      "Tau:\n",
      "\tstatistics: 0.015\n",
      "\tp-value: 0.814\n",
      "\n",
      "\n",
      "0.01: (-0.049, 0.411)\n",
      "0.5: (0.006, 0.356)\n",
      "0.1: (0.034, 0.328)\n",
      "\n",
      "\n",
      "statistic_pearson: 1.9664431689224378\n",
      "statistic_spearmen: 0.31510948516014314\n",
      "statistic_tau: 0.23783491545939875\n"
     ]
    }
   ],
   "source": [
    "#8.1\n",
    "d2 = df_D[[\"D2\"]].to_numpy()\n",
    "sample_task8_first = np.asarray([x[0] for x in d2])\n",
    "\n",
    "d9 = df_D[[\"D9\"]].to_numpy()\n",
    "sample_task8_second = np.asarray([x[0] for x in d9])\n",
    "\n",
    "n = sample_task8_first.shape[0]\n",
    "\n",
    "coef_pearson = sps.pearsonr(sample_task8_first, sample_task8_second)\n",
    "coef_spearman = sps.spearmanr(sample_task8_first, sample_task8_second)\n",
    "coef_tau = sps.kendalltau(sample_task8_first, sample_task8_second)\n",
    "\n",
    "print(\"Pearson:\\n\\tstatistics: %.3f\\n\\tp-value: %.3f\" %(coef_pearson[0], coef_pearson[1]))\n",
    "print(\"Spearman:\\n\\tstatistics: %.3f\\n\\tp-value: %.3f\" %(coef_spearman[0], coef_spearman[1]))\n",
    "print(\"Tau:\\n\\tstatistics: %.3f\\n\\tp-value: %.3f\" %(coef_tau[0], coef_tau[1]))\n",
    "print(\"\\n\")\n",
    "\n",
    "buf = coef_pearson[0] + coef_pearson[0] * (1 - (coef_pearson[0]**2)) / (2 * n)\n",
    "\n",
    "span = sps.norm(loc = 0, scale = 1).ppf(1 - (0.01 / 2)) * (1 - (coef_pearson[0]**2)) / (n**(0.5))\n",
    "print(\"0.01: (%.3f, %.3f)\" %(buf - span, buf + span))\n",
    "\n",
    "span = sps.norm(loc = 0, scale = 1).ppf(1 - (0.05 / 2)) * (1 - (coef_pearson[0]**2)) / (n**(0.5))\n",
    "print(\"0.5: (%.3f, %.3f)\" %(buf - span, buf + span))\n",
    "\n",
    "span = sps.norm(loc = 0, scale = 1).ppf(1 - (0.1 / 2)) * (1 - (coef_pearson[0]**2)) / (n**(0.5))\n",
    "print(\"0.1: (%.3f, %.3f)\" %(buf - span, buf + span))\n",
    "print(\"\\n\")\n",
    "\n",
    "stat_cri1 = coef_pearson[0] * ((n - 2)**(0.5)) / ((1 - (coef_pearson[0]**2))**(0.5))\n",
    "print(\"statistic_pearson:\", stat_cri1)\n",
    "\n",
    "stat_cri2 = coef_spearman[0] * ((n - 2)**(0.5)) / ((1 - (coef_spearman[0]**2))**(0.5))\n",
    "print(\"statistic_spearmen:\", stat_cri2)\n",
    "\n",
    "stat_cri3 = coef_tau[0] * ((9 * n*(n + 1) / (2*(2*n + 5)))**(0.5))\n",
    "print(\"statistic_tau:\", stat_cri3)"
   ]
  },
  {
   "cell_type": "code",
   "execution_count": 288,
   "metadata": {},
   "outputs": [
    {
     "name": "stdout",
     "output_type": "stream",
     "text": [
      "Tau 1-2:\n",
      "\tstatistics: 0.015\n",
      "\tp-value: 0.814\n",
      "Tau 1-3:\n",
      "\tstatistics: 0.326\n",
      "\tp-value: 0.000\n",
      "Tau 2-3:\n",
      "\tstatistics: 0.001\n",
      "\tp-value: 0.992\n",
      "W: 0.236\n",
      "test: z = 111.500; p-value = 0.601\n"
     ]
    }
   ],
   "source": [
    "#8.2\n",
    "d2 = df_D[[\"D2\"]].to_numpy()\n",
    "sample_task8_2_first = np.asarray([x[0] for x in d2])\n",
    "\n",
    "d9 = df_D[[\"D9\"]].to_numpy()\n",
    "sample_task8_2_second = np.asarray([x[0] for x in d9])\n",
    "\n",
    "d6 = df_D[[\"D6\"]].to_numpy()\n",
    "sample_task8_2_third = np.asarray([x[0] for x in d6])\n",
    "\n",
    "coef_tau = sps.kendalltau(sample_task8_2_first, sample_task8_2_second)\n",
    "print(\"Tau 1-2:\\n\\tstatistics: %.3f\\n\\tp-value: %.3f\" %(coef_tau[0], coef_tau[1]))\n",
    "\n",
    "coef_tau = sps.kendalltau(sample_task8_2_first, sample_task8_2_third)\n",
    "print(\"Tau 1-3:\\n\\tstatistics: %.3f\\n\\tp-value: %.3f\" %(coef_tau[0], coef_tau[1]))\n",
    "\n",
    "coef_tau = sps.kendalltau(sample_task8_2_second, sample_task8_2_third)\n",
    "print(\"Tau 2-3:\\n\\tstatistics: %.3f\\n\\tp-value: %.3f\" %(coef_tau[0], coef_tau[1]))\n",
    "\n",
    "n = sample_task8_first.shape[0]\n",
    "\n",
    "r1 = pd.Series(sample_task8_2_first).rank()\n",
    "r2 = pd.Series(sample_task8_2_second).rank()\n",
    "r3 = pd.Series(sample_task8_2_third).rank()\n",
    "\n",
    "r = [r1, r2, r3]\n",
    "r_mean = (sum(r1) + sum(r2) + sum(r3)) / n\n",
    "k = 3 \n",
    "\n",
    "s = 0\n",
    "for i in range(n):\n",
    "    buf = 0\n",
    "    for j in range(k):\n",
    "        buf += r[j][i] \n",
    "    s += ((buf - r_mean)**2)\n",
    "    \n",
    "w = (s * 12) / (n**3 - n) / ((k + 1)**2)\n",
    "\n",
    "print('W: %.3f' % w)\n",
    "\n",
    "z = 12 * s / (k + 1) / (n**2 - n)\n",
    "f_z = sps.chi2(n - 1).cdf(z)\n",
    "p_value = 1 - f_z\n",
    "\n",
    "print(\"test: z = %.3f; p-value = %.3f\" %(z, p_value))"
   ]
  },
  {
   "cell_type": "markdown",
   "metadata": {},
   "source": [
    "<h1>Часть 9</h1>"
   ]
  },
  {
   "cell_type": "code",
   "execution_count": 289,
   "metadata": {},
   "outputs": [
    {
     "name": "stdout",
     "output_type": "stream",
     "text": [
      "b0 = 113.178, b1 = 152.420\n",
      "DY = 5002.097, df = 1, Unbiased DY =  585245.332\n",
      "DresY = 138493.175, df = 115, Unbiased DresY =  140901.752\n",
      "D = 143495.272, df = 116, Unbiased D =  144732.300\n",
      "Coefficient of determination = 0.035, Correlation relation =  0.187\n",
      "\n",
      "\n",
      "0.01: (-1110.564, 1336.920)\n",
      "0.05: (-812.274, 1038.630)\n",
      "0.1: (-661.554, 887.910)\n",
      "\n",
      "\n",
      "0.01: (-43.469, 348.309)\n",
      "0.05: (4.280, 300.561)\n",
      "0.1: (28.406, 276.434)\n"
     ]
    },
    {
     "data": {
      "image/png": "[encoded data removed]",
      "text/plain": [
       "<Figure size 432x288 with 1 Axes>"
      ]
     },
     "metadata": {
      "needs_background": "light"
     },
     "output_type": "display_data"
    },
    {
     "data": {
      "image/png": "[encoded data removed]",
      "text/plain": [
       "<Figure size 432x288 with 1 Axes>"
      ]
     },
     "metadata": {
      "needs_background": "light"
     },
     "output_type": "display_data"
    },
    {
     "name": "stdout",
     "output_type": "stream",
     "text": [
      "statistic = 4.154, p-value = 0.044\n"
     ]
    }
   ],
   "source": [
    "#9.1\n",
    "d9 = df_D[[\"D9\"]].to_numpy()\n",
    "sample_x = np.asarray([x[0] for x in d9])\n",
    "\n",
    "d1 = df_D[[\"D1\"]].to_numpy()\n",
    "sample_y = np.asarray([x[0] for x in d1])\n",
    "\n",
    "n = sample_x.shape[0]\n",
    "#index = []\n",
    "\n",
    "#for i in range(n):\n",
    "#    if (sample_x[i] > 7.5):\n",
    "#        index.append(i)\n",
    "\n",
    "#j = 0\n",
    "#sample_x = sample_x.tolist()\n",
    "#sample_y = sample_y.tolist()\n",
    "#for i in range(len(index)):\n",
    "#    sample_x.pop(index[i - j])\n",
    "#    sample_y.pop(index[i - j])\n",
    "#    j += 1\n",
    "\n",
    "#sample_x = np.asarray(sample_x)\n",
    "#sample_y = np.asarray(sample_y)\n",
    "\n",
    "#n = sample_x.shape[0]\n",
    "\n",
    "b1 = sps.pearsonr(sample_x, sample_y)[0] * sample_y.std() / sample_x.std()\n",
    "b0 = sample_y.mean() - b1 * sample_x.mean()\n",
    "\n",
    "print(\"b0 = %.3f, b1 = %.3f\" %(b0, b1))\n",
    "\n",
    "D_y = 0\n",
    "D_resY = 0\n",
    "D = sample_y.var()\n",
    "mean = sample_y.mean()\n",
    "\n",
    "for i in range(n):\n",
    "    D_y += ((b0 + b1 * sample_x[i] - mean)**2)\n",
    "    D_resY += ((b0 + b1 * sample_x[i] - sample_y[i])**2)\n",
    "\n",
    "D_y /= n \n",
    "D_resY /= n\n",
    "\n",
    "print(\"DY = %.3f, df = %i, Unbiased DY =  %.3f\" %(D_y, 1, n / 1 * D_y))\n",
    "print(\"DresY = %.3f, df = %i, Unbiased DresY =  %.3f\" %(D_resY, n - 2, n / (n - 2) * D_resY))\n",
    "print(\"D = %.3f, df = %i, Unbiased D =  %.3f\" %(D, n - 1, n / (n - 1) * D))\n",
    "\n",
    "R2 = D_y / D\n",
    "R = R2**(0.5)\n",
    "\n",
    "print(\"Coefficient of determination = %.3f, Correlation relation =  %.3f\" %(R2, R))\n",
    "print(\"\\n\")\n",
    "\n",
    "span = sps.t(n - 2).ppf(1 - (0.01 / 2)) * ((n / (n - 2) * D_resY * sum([x*x for x in sample_x]) / (n*n) / sample_x.var())**(0.5))\n",
    "print(\"0.01: (%.3f, %.3f)\" %(b0 - span, b0 + span))\n",
    "\n",
    "span = sps.t(n - 2).ppf(1 - (0.05 / 2)) * ((n / (n - 2) * D_resY * sum([x*x for x in sample_x]) / (n*n) / sample_x.var())**(0.5))\n",
    "print(\"0.05: (%.3f, %.3f)\" %(b0 - span, b0 + span))\n",
    "\n",
    "span = sps.t(n - 2).ppf(1 - (0.1 / 2)) * ((n / (n - 2) * D_resY * sum([x*x for x in sample_x]) / (n*n) / sample_x.var())**(0.5))\n",
    "print(\"0.1: (%.3f, %.3f)\" %(b0 - span, b0 + span))\n",
    "print(\"\\n\")\n",
    "\n",
    "span = sps.t(n - 2).ppf(1 - (0.01 / 2)) * ((n / (n - 2) * D_resY * 1 / n / sample_x.var())**(0.5))\n",
    "print(\"0.01: (%.3f, %.3f)\" %(b1 - span, b1 + span))\n",
    "\n",
    "span = sps.t(n - 2).ppf(1 - (0.05 / 2)) * ((n / (n - 2) * D_resY * 1 / n / sample_x.var())**(0.5))\n",
    "print(\"0.05: (%.3f, %.3f)\" %(b1 - span, b1 + span))\n",
    "\n",
    "span = sps.t(n - 2).ppf(1 - (0.1 / 2)) * ((n / (n - 2) * D_resY * 1 / n / sample_x.var())**(0.5))\n",
    "print(\"0.1: (%.3f, %.3f)\" %(b1 - span, b1 + span))\n",
    "\n",
    "f_x = [b0 + b1 * x for x in sample_x]\n",
    "f_x_top = [f_x[i] + sps.t(n - 2).ppf(1 - (0.1 / 2)) * ((n / (n - 2) * D_resY * (1 / n + ((sample_x[i] - sample_x.mean())**2 / n / sample_x.var()))  / sample_x.var())**(0.5)) for i in range(n)]\n",
    "f_x_bottom = [f_x[i] - sps.t(n - 2).ppf(1 - (0.1 / 2)) * ((n / (n - 2) * D_resY * (1 / n + ((sample_x[i] - sample_x.mean())**2 / n / sample_x.var()))  / sample_x.var())**(0.5)) for i in range(n)]\n",
    "\n",
    "f = np.asarray([[sample_x[i], f_x[i], f_x_top[i], f_x_bottom[i]] for i in range(n)])\n",
    "f = np.sort(f, 0)\n",
    "x = [x[0] for x in f]\n",
    "y = [x[1] for x in f]\n",
    "y_top = [x[2] for x in f]\n",
    "y_bottom = [x[3] for x in f]\n",
    "\n",
    "plt.scatter(sample_x, sample_y)\n",
    "plt.plot(x, y, color = \"red\")\n",
    "plt.plot(x, y_top, color = \"orange\")\n",
    "plt.plot(x, y_bottom, color = \"orange\")\n",
    "plt.xlabel(\"X\")\n",
    "plt.ylabel(\"Y\")\n",
    "plt.show()\n",
    "\n",
    "err = [sample_y[i] - f_x[i] for i in range(n)]\n",
    "plt.scatter(sample_x, err)\n",
    "plt.xlabel(\"X\")\n",
    "plt.ylabel(\"e\")\n",
    "plt.show()\n",
    "\n",
    "statistic = D_y / (D_resY / (n - 2))\n",
    "p_value = 1 - sps.f.cdf(statistic, dfn = 1, dfd = (n - 2))\n",
    "print(\"statistic = %.3f, p-value = %.3f\" %(statistic, p_value))"
   ]
  },
  {
   "cell_type": "code",
   "execution_count": 290,
   "metadata": {},
   "outputs": [
    {
     "name": "stdout",
     "output_type": "stream",
     "text": [
      "                            OLS Regression Results                            \n",
      "==============================================================================\n",
      "Dep. Variable:                      y   R-squared:                       0.050\n",
      "Model:                            OLS   Adj. R-squared:                  0.033\n",
      "Method:                 Least Squares   F-statistic:                     3.002\n",
      "Date:                Fri, 29 Dec 2023   Prob (F-statistic):             0.0536\n",
      "Time:                        00:59:02   Log-Likelihood:                -857.65\n",
      "No. Observations:                 117   AIC:                             1721.\n",
      "Df Residuals:                     114   BIC:                             1730.\n",
      "Df Model:                           2                                         \n",
      "Covariance Type:            nonrobust                                         \n",
      "==============================================================================\n",
      "                 coef    std err          t      P>|t|      [0.025      0.975]\n",
      "------------------------------------------------------------------------------\n",
      "1           5818.8649   4253.213      1.368      0.174   -2606.717    1.42e+04\n",
      "x          -1610.4660   1308.343     -1.231      0.221   -4202.284     981.352\n",
      "x^2          135.2120    100.186      1.350      0.180     -63.256     333.680\n",
      "==============================================================================\n",
      "Omnibus:                       27.951   Durbin-Watson:                   0.619\n",
      "Prob(Omnibus):                  0.000   Jarque-Bera (JB):               38.297\n",
      "Skew:                           1.299   Prob(JB):                     4.83e-09\n",
      "Kurtosis:                       4.050   Cond. No.                     5.15e+03\n",
      "==============================================================================\n",
      "\n",
      "Notes:\n",
      "[1] Standard Errors assume that the covariance matrix of the errors is correctly specified.\n",
      "[2] The condition number is large, 5.15e+03. This might indicate that there are\n",
      "strong multicollinearity or other numerical problems.\n",
      "Coefficient of determination = 0.050, Correlation relation =  0.224\n",
      "\n",
      "\n"
     ]
    },
    {
     "data": {
      "image/png": "[encoded data removed]",
      "text/plain": [
       "<Figure size 432x288 with 1 Axes>"
      ]
     },
     "metadata": {
      "needs_background": "light"
     },
     "output_type": "display_data"
    },
    {
     "data": {
      "image/png": "[encoded data removed]",
      "text/plain": [
       "<Figure size 432x288 with 1 Axes>"
      ]
     },
     "metadata": {
      "needs_background": "light"
     },
     "output_type": "display_data"
    },
    {
     "name": "stdout",
     "output_type": "stream",
     "text": [
      "statistic = 3.002, p-value = 0.054\n"
     ]
    }
   ],
   "source": [
    "#9.2\n",
    "d9 = df_D[[\"D9\"]].to_numpy()\n",
    "sample_x2 = np.asarray([x[0] for x in d9])\n",
    "\n",
    "d1 = df_D[[\"D1\"]].to_numpy()\n",
    "sample_y = np.asarray([x[0] for x in d1])\n",
    "\n",
    "n = sample_x.shape[0]\n",
    "\n",
    "sample_x1 = np.asarray([1] * n)\n",
    "sample_x3 = np.asarray([x*x for x in sample_x2])\n",
    "\n",
    "X = pd.DataFrame({\"1\": sample_x1, \"x\": sample_x2, \"x^2\": sample_x3})\n",
    "X = sm.add_constant(X, prepend=False)\n",
    "\n",
    "model = OLS(sample_y, X)\n",
    "res = model.fit()\n",
    "print(res.summary())\n",
    "X = np.asarray([sample_x1, sample_x2, sample_x3])\n",
    "f_x = [5818.8649 - 1610.4660 * x + 135.212 * x * x for x in sample_x2]\n",
    "\n",
    "D_y = 0\n",
    "D_resY = 0\n",
    "D = sample_y.var()\n",
    "mean = sample_y.mean()\n",
    "\n",
    "for i in range(n):\n",
    "    D_y += ((f_x[i] - mean)**2)\n",
    "    D_resY += ((f_x[i] - sample_y[i])**2)\n",
    "\n",
    "D_y /= n \n",
    "D_resY /= n\n",
    "\n",
    "R2 = D_y / D\n",
    "R = R2**(0.5)\n",
    "\n",
    "print(\"Coefficient of determination = %.3f, Correlation relation =  %.3f\" %(R2, R))\n",
    "print(\"\\n\")\n",
    "\n",
    "f_x_top = [f_x[i] + sps.t(n - 3).ppf(1 - (0.1 / 2)) * ((n / (n - 2) * D_resY * (1 / n + sum([(X[j][i] - X.mean()) ** 2 / (n * X.var()) for j in range(3) ]))  / sample_x.var())**(0.5)) for i in range(n)]\n",
    "f_x_bottom = [f_x[i] - sps.t(n - 3).ppf(1 - (0.1 / 2)) * ((n / (n - 2) * D_resY * (1 / n + sum([(X[j][i] - X.mean()) ** 2 / (n * X.var()) for j in range(3) ]))  / sample_x.var())**(0.5)) for i in range(n)]\n",
    "\n",
    "f = np.asarray([[sample_x2[i], f_x[i], f_x_top[i], f_x_bottom[i]] for i in range(n)])\n",
    "f = np.sort(f, 0)\n",
    "x = [x[0] for x in f]\n",
    "y = [x[1] for x in f]\n",
    "y_top = [x[2] for x in f]\n",
    "y_bottom = [x[3] for x in f]\n",
    "\n",
    "plt.scatter(sample_x, sample_y)\n",
    "plt.plot(x, y, color = \"red\")\n",
    "plt.plot(x, y_top, color = \"orange\")\n",
    "plt.plot(x, y_bottom, color = \"orange\")\n",
    "plt.xlabel(\"X\")\n",
    "plt.ylabel(\"Y\")\n",
    "plt.show()\n",
    "\n",
    "err = [sample_y[i] - f_x[i] for i in range(n)]\n",
    "plt.scatter(sample_x, err)\n",
    "plt.xlabel(\"X\")\n",
    "plt.ylabel(\"e\")\n",
    "plt.show()\n",
    "\n",
    "statistic = (D_y / 2) / (D_resY / (n - 3))\n",
    "p_value = 1 - sps.f.cdf(statistic, dfn = 2, dfd = (n - 3))\n",
    "print(\"statistic = %.3f, p-value = %.3f\" %(statistic, p_value))"
   ]
  },
  {
   "cell_type": "code",
   "execution_count": 291,
   "metadata": {},
   "outputs": [
    {
     "name": "stdout",
     "output_type": "stream",
     "text": [
      "DY = 7180.065, df = 2, Unbiased DY =  840067.564\n",
      "DresY = 136315.185, df = 114, Unbiased DresY =  139902.427\n",
      "D = 143495.272, df = 116, Unbiased D =  144732.300\n",
      "Coefficient of determination = 0.050, Correlation relation =  0.224\n",
      "\n",
      "\n"
     ]
    }
   ],
   "source": [
    "print(\"DY = %.3f, df = %i, Unbiased DY =  %.3f\" %(D_y, 2, n / 1 * D_y))\n",
    "print(\"DresY = %.3f, df = %i, Unbiased DresY =  %.3f\" %(D_resY, n - 3, n / (n - 3) * D_resY))\n",
    "print(\"D = %.3f, df = %i, Unbiased D =  %.3f\" %(D, n - 1, n / (n - 1) * D))\n",
    "\n",
    "R2 = D_y / D\n",
    "R = R2**(0.5)\n",
    "\n",
    "print(\"Coefficient of determination = %.3f, Correlation relation =  %.3f\" %(R2, R))\n",
    "print(\"\\n\")"
   ]
  },
  {
   "cell_type": "code",
   "execution_count": 292,
   "metadata": {},
   "outputs": [
    {
     "name": "stdout",
     "output_type": "stream",
     "text": [
      "                            OLS Regression Results                            \n",
      "==============================================================================\n",
      "Dep. Variable:                      y   R-squared:                       0.052\n",
      "Model:                            OLS   Adj. R-squared:                  0.035\n",
      "Method:                 Least Squares   F-statistic:                     3.115\n",
      "Date:                Fri, 29 Dec 2023   Prob (F-statistic):             0.0482\n",
      "Time:                        00:59:03   Log-Likelihood:                -857.54\n",
      "No. Observations:                 117   AIC:                             1721.\n",
      "Df Residuals:                     114   BIC:                             1729.\n",
      "Df Model:                           2                                         \n",
      "Covariance Type:            nonrobust                                         \n",
      "==============================================================================\n",
      "                 coef    std err          t      P>|t|      [0.025      0.975]\n",
      "------------------------------------------------------------------------------\n",
      "1             -8.5389    472.865     -0.018      0.986    -945.280     928.203\n",
      "x1           148.5189     74.503      1.993      0.049       0.929     296.108\n",
      "x2            30.5576     21.405      1.428      0.156     -11.845      72.960\n",
      "==============================================================================\n",
      "Omnibus:                       22.967   Durbin-Watson:                   0.627\n",
      "Prob(Omnibus):                  0.000   Jarque-Bera (JB):               29.030\n",
      "Skew:                           1.156   Prob(JB):                     4.97e-07\n",
      "Kurtosis:                       3.781   Cond. No.                         111.\n",
      "==============================================================================\n",
      "\n",
      "Notes:\n",
      "[1] Standard Errors assume that the covariance matrix of the errors is correctly specified.\n",
      "Coefficient of determination = 0.050, Correlation relation =  0.224\n",
      "\n",
      "\n"
     ]
    },
    {
     "data": {
      "image/png": "[encoded data removed]",
      "text/plain": [
       "<Figure size 432x288 with 1 Axes>"
      ]
     },
     "metadata": {
      "needs_background": "light"
     },
     "output_type": "display_data"
    },
    {
     "data": {
      "image/png": "[encoded data removed]",
      "text/plain": [
       "<Figure size 432x288 with 1 Axes>"
      ]
     },
     "metadata": {
      "needs_background": "light"
     },
     "output_type": "display_data"
    },
    {
     "name": "stdout",
     "output_type": "stream",
     "text": [
      "statistic = 3.002, p-value = 0.054\n"
     ]
    }
   ],
   "source": [
    "#9.3\n",
    "d9 = df_D[[\"D9\"]].to_numpy()\n",
    "sample_x2 = np.asarray([x[0] for x in d9])\n",
    "\n",
    "d10 = df_D[[\"D10\"]].to_numpy()\n",
    "sample_x3 = np.asarray([x[0] for x in d10])\n",
    "\n",
    "d1 = df_D[[\"D1\"]].to_numpy()\n",
    "sample_y = np.asarray([x[0] for x in d1])\n",
    "\n",
    "n = sample_x.shape[0]\n",
    "\n",
    "sample_x1 = np.asarray([1] * n)\n",
    "\n",
    "X = pd.DataFrame({\"1\": sample_x1, \"x1\": sample_x2, \"x2\": sample_x3})\n",
    "X = sm.add_constant(X, prepend=False)\n",
    "\n",
    "model = OLS(sample_y, X)\n",
    "res = model.fit()\n",
    "print(res.summary())\n",
    "X = np.asarray([sample_x1, sample_x2, sample_x3])\n",
    "f_x = [5818.8649 - 1610.4660 * x + 135.212 * x * x for x in sample_x2]\n",
    "\n",
    "D_y = 0\n",
    "D_resY = 0\n",
    "D = sample_y.var()\n",
    "mean = sample_y.mean()\n",
    "\n",
    "for i in range(n):\n",
    "    D_y += ((f_x[i] - mean)**2)\n",
    "    D_resY += ((f_x[i] - sample_y[i])**2)\n",
    "\n",
    "D_y /= n \n",
    "D_resY /= n\n",
    "\n",
    "R2 = D_y / D\n",
    "R = R2**(0.5)\n",
    "\n",
    "print(\"Coefficient of determination = %.3f, Correlation relation =  %.3f\" %(R2, R))\n",
    "print(\"\\n\")\n",
    "\n",
    "f_x_top = [f_x[i] + sps.t(n - 3).ppf(1 - (0.1 / 2)) * ((n / (n - 2) * D_resY * (1 / n + sum([(X[j][i] - X.mean()) ** 2 / (n * X.var()) for j in range(3) ]))  / sample_x.var())**(0.5)) for i in range(n)]\n",
    "f_x_bottom = [f_x[i] - sps.t(n - 3).ppf(1 - (0.1 / 2)) * ((n / (n - 2) * D_resY * (1 / n + sum([(X[j][i] - X.mean()) ** 2 / (n * X.var()) for j in range(3) ]))  / sample_x.var())**(0.5)) for i in range(n)]\n",
    "\n",
    "f = np.asarray([[sample_x2[i], f_x[i], f_x_top[i], f_x_bottom[i]] for i in range(n)])\n",
    "f = np.sort(f, 0)\n",
    "x = [x[0] for x in f]\n",
    "y = [x[1] for x in f]\n",
    "y_top = [x[2] for x in f]\n",
    "y_bottom = [x[3] for x in f]\n",
    "\n",
    "plt.scatter(sample_x, sample_y)\n",
    "plt.plot(x, y, color = \"red\")\n",
    "plt.plot(x, y_top, color = \"orange\")\n",
    "plt.plot(x, y_bottom, color = \"orange\")\n",
    "plt.xlabel(\"X\")\n",
    "plt.ylabel(\"Y\")\n",
    "plt.show()\n",
    "\n",
    "err = [sample_y[i] - f_x[i] for i in range(n)]\n",
    "plt.scatter(sample_x, err)\n",
    "plt.xlabel(\"X\")\n",
    "plt.ylabel(\"e\")\n",
    "plt.show()\n",
    "\n",
    "statistic = (D_y / 2) / (D_resY / (n - 3))\n",
    "p_value = 1 - sps.f.cdf(statistic, dfn = 2, dfd = (n - 3))\n",
    "print(\"statistic = %.3f, p-value = %.3f\" %(statistic, p_value))"
   ]
  },
  {
   "cell_type": "code",
   "execution_count": 293,
   "metadata": {},
   "outputs": [
    {
     "name": "stdout",
     "output_type": "stream",
     "text": [
      "DY = 7180.065, df = 2, Unbiased DY =  840067.564\n",
      "DresY = 136315.185, df = 114, Unbiased DresY =  139902.427\n",
      "D = 143495.272, df = 116, Unbiased D =  144732.300\n",
      "Coefficient of determination = 0.050, Correlation relation =  0.224\n",
      "\n",
      "\n"
     ]
    }
   ],
   "source": [
    "print(\"DY = %.3f, df = %i, Unbiased DY =  %.3f\" %(D_y, 2, n / 1 * D_y))\n",
    "print(\"DresY = %.3f, df = %i, Unbiased DresY =  %.3f\" %(D_resY, n - 3, n / (n - 3) * D_resY))\n",
    "print(\"D = %.3f, df = %i, Unbiased D =  %.3f\" %(D, n - 1, n / (n - 1) * D))\n",
    "\n",
    "R2 = D_y / D\n",
    "R = R2**(0.5)\n",
    "\n",
    "print(\"Coefficient of determination = %.3f, Correlation relation =  %.3f\" %(R2, R))\n",
    "print(\"\\n\")"
   ]
  }
 ],
 "metadata": {
  "kernelspec": {
   "display_name": "base",
   "language": "python",
   "name": "python3"
  },
  "language_info": {
   "codemirror_mode": {
    "name": "ipython",
    "version": 3
   },
   "file_extension": ".py",
   "mimetype": "text/x-python",
   "name": "python",
   "nbconvert_exporter": "python",
   "pygments_lexer": "ipython3",
   "version": "3.8.8"
  }
 },
 "nbformat": 4,
 "nbformat_minor": 2
}
